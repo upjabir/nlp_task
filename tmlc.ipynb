{
  "nbformat": 4,
  "nbformat_minor": 0,
  "metadata": {
    "colab": {
      "provenance": [],
      "mount_file_id": "19QQB4DqxkHEQIYeDNru5gj_gxVZjw808",
      "authorship_tag": "ABX9TyN/Nli3Bip2nKq1RjD8y9lX",
      "include_colab_link": true
    },
    "kernelspec": {
      "name": "python3",
      "display_name": "Python 3"
    },
    "language_info": {
      "name": "python"
    },
    "accelerator": "GPU"
  },
  "cells": [
    {
      "cell_type": "markdown",
      "metadata": {
        "id": "view-in-github",
        "colab_type": "text"
      },
      "source": [
        "<a href=\"https://colab.research.google.com/github/upjabir/nlp_task/blob/main/tmlc.ipynb\" target=\"_parent\"><img src=\"https://colab.research.google.com/assets/colab-badge.svg\" alt=\"Open In Colab\"/></a>"
      ]
    },
    {
      "cell_type": "code",
      "execution_count": 55,
      "metadata": {
        "id": "85ADv-0NHjgh",
        "colab": {
          "base_uri": "https://localhost:8080/"
        },
        "outputId": "386cb26a-1ad1-426a-b536-a90e1f3bb886"
      },
      "outputs": [
        {
          "output_type": "stream",
          "name": "stderr",
          "text": [
            "[nltk_data] Downloading package stopwords to /root/nltk_data...\n",
            "[nltk_data]   Package stopwords is already up-to-date!\n"
          ]
        },
        {
          "output_type": "execute_result",
          "data": {
            "text/plain": [
              "True"
            ]
          },
          "metadata": {},
          "execution_count": 55
        }
      ],
      "source": [
        "import pandas as pd\n",
        "import numpy as np\n",
        "import matplotlib.pyplot as plt\n",
        "import seaborn as sns\n",
        "\n",
        "import re\n",
        "import string\n",
        "\n",
        "from sklearn.model_selection import train_test_split\n",
        "from sklearn.metrics import confusion_matrix,classification_report\n",
        "from sklearn.feature_extraction.text import CountVectorizer, TfidfVectorizer\n",
        "from sklearn.ensemble import RandomForestClassifier\n",
        "from sklearn.metrics import confusion_matrix,classification_report\n",
        "from sklearn import preprocessing\n",
        "from sklearn.naive_bayes import MultinomialNB\n",
        "from sklearn import metrics\n",
        "from sklearn.linear_model import SGDClassifier\n",
        "from sklearn.ensemble import RandomForestClassifier\n",
        "import six\n",
        "import sys\n",
        "sys.modules['sklearn.externals.six'] = six\n",
        "from sklearn.linear_model import LogisticRegression\n",
        "from mlxtend.classifier import StackingClassifier\n",
        "\n",
        "from tensorflow.keras.preprocessing.text import Tokenizer\n",
        "from tensorflow.keras.preprocessing.sequence import pad_sequences\n",
        "from tensorflow.keras.models import Sequential\n",
        "from tensorflow.keras.layers import Dense, Embedding, LSTM, SpatialDropout1D\n",
        "from tensorflow.keras.callbacks import EarlyStopping\n",
        "from tensorflow.keras.layers import Dropout\n",
        "\n",
        "\n",
        "import nltk\n",
        "from nltk.corpus import stopwords\n",
        "from nltk.stem import WordNetLemmatizer \n",
        "\n",
        "nltk.download('stopwords')"
      ]
    },
    {
      "cell_type": "code",
      "source": [
        "df = pd.read_csv('/content/drive/MyDrive/Datasets/ecommerce/ecommerceDataset.csv',header=None)\n",
        "df.columns = ['class','text']"
      ],
      "metadata": {
        "id": "Ld2aoiynQ6VT"
      },
      "execution_count": 3,
      "outputs": []
    },
    {
      "cell_type": "code",
      "source": [
        "df.head()"
      ],
      "metadata": {
        "colab": {
          "base_uri": "https://localhost:8080/",
          "height": 206
        },
        "id": "PrZJW4NyQ-02",
        "outputId": "42bf4210-ed9d-4cba-9e92-98435d13ebea"
      },
      "execution_count": 4,
      "outputs": [
        {
          "output_type": "execute_result",
          "data": {
            "text/plain": [
              "       class                                               text\n",
              "0  Household  Paper Plane Design Framed Wall Hanging Motivat...\n",
              "1  Household  SAF 'Floral' Framed Painting (Wood, 30 inch x ...\n",
              "2  Household  SAF 'UV Textured Modern Art Print Framed' Pain...\n",
              "3  Household  SAF Flower Print Framed Painting (Synthetic, 1...\n",
              "4  Household  Incredible Gifts India Wooden Happy Birthday U..."
            ],
            "text/html": [
              "\n",
              "  <div id=\"df-d1c06c25-55e6-4325-bcfe-b2d92364e294\">\n",
              "    <div class=\"colab-df-container\">\n",
              "      <div>\n",
              "<style scoped>\n",
              "    .dataframe tbody tr th:only-of-type {\n",
              "        vertical-align: middle;\n",
              "    }\n",
              "\n",
              "    .dataframe tbody tr th {\n",
              "        vertical-align: top;\n",
              "    }\n",
              "\n",
              "    .dataframe thead th {\n",
              "        text-align: right;\n",
              "    }\n",
              "</style>\n",
              "<table border=\"1\" class=\"dataframe\">\n",
              "  <thead>\n",
              "    <tr style=\"text-align: right;\">\n",
              "      <th></th>\n",
              "      <th>class</th>\n",
              "      <th>text</th>\n",
              "    </tr>\n",
              "  </thead>\n",
              "  <tbody>\n",
              "    <tr>\n",
              "      <th>0</th>\n",
              "      <td>Household</td>\n",
              "      <td>Paper Plane Design Framed Wall Hanging Motivat...</td>\n",
              "    </tr>\n",
              "    <tr>\n",
              "      <th>1</th>\n",
              "      <td>Household</td>\n",
              "      <td>SAF 'Floral' Framed Painting (Wood, 30 inch x ...</td>\n",
              "    </tr>\n",
              "    <tr>\n",
              "      <th>2</th>\n",
              "      <td>Household</td>\n",
              "      <td>SAF 'UV Textured Modern Art Print Framed' Pain...</td>\n",
              "    </tr>\n",
              "    <tr>\n",
              "      <th>3</th>\n",
              "      <td>Household</td>\n",
              "      <td>SAF Flower Print Framed Painting (Synthetic, 1...</td>\n",
              "    </tr>\n",
              "    <tr>\n",
              "      <th>4</th>\n",
              "      <td>Household</td>\n",
              "      <td>Incredible Gifts India Wooden Happy Birthday U...</td>\n",
              "    </tr>\n",
              "  </tbody>\n",
              "</table>\n",
              "</div>\n",
              "      <button class=\"colab-df-convert\" onclick=\"convertToInteractive('df-d1c06c25-55e6-4325-bcfe-b2d92364e294')\"\n",
              "              title=\"Convert this dataframe to an interactive table.\"\n",
              "              style=\"display:none;\">\n",
              "        \n",
              "  <svg xmlns=\"http://www.w3.org/2000/svg\" height=\"24px\"viewBox=\"0 0 24 24\"\n",
              "       width=\"24px\">\n",
              "    <path d=\"M0 0h24v24H0V0z\" fill=\"none\"/>\n",
              "    <path d=\"M18.56 5.44l.94 2.06.94-2.06 2.06-.94-2.06-.94-.94-2.06-.94 2.06-2.06.94zm-11 1L8.5 8.5l.94-2.06 2.06-.94-2.06-.94L8.5 2.5l-.94 2.06-2.06.94zm10 10l.94 2.06.94-2.06 2.06-.94-2.06-.94-.94-2.06-.94 2.06-2.06.94z\"/><path d=\"M17.41 7.96l-1.37-1.37c-.4-.4-.92-.59-1.43-.59-.52 0-1.04.2-1.43.59L10.3 9.45l-7.72 7.72c-.78.78-.78 2.05 0 2.83L4 21.41c.39.39.9.59 1.41.59.51 0 1.02-.2 1.41-.59l7.78-7.78 2.81-2.81c.8-.78.8-2.07 0-2.86zM5.41 20L4 18.59l7.72-7.72 1.47 1.35L5.41 20z\"/>\n",
              "  </svg>\n",
              "      </button>\n",
              "      \n",
              "  <style>\n",
              "    .colab-df-container {\n",
              "      display:flex;\n",
              "      flex-wrap:wrap;\n",
              "      gap: 12px;\n",
              "    }\n",
              "\n",
              "    .colab-df-convert {\n",
              "      background-color: #E8F0FE;\n",
              "      border: none;\n",
              "      border-radius: 50%;\n",
              "      cursor: pointer;\n",
              "      display: none;\n",
              "      fill: #1967D2;\n",
              "      height: 32px;\n",
              "      padding: 0 0 0 0;\n",
              "      width: 32px;\n",
              "    }\n",
              "\n",
              "    .colab-df-convert:hover {\n",
              "      background-color: #E2EBFA;\n",
              "      box-shadow: 0px 1px 2px rgba(60, 64, 67, 0.3), 0px 1px 3px 1px rgba(60, 64, 67, 0.15);\n",
              "      fill: #174EA6;\n",
              "    }\n",
              "\n",
              "    [theme=dark] .colab-df-convert {\n",
              "      background-color: #3B4455;\n",
              "      fill: #D2E3FC;\n",
              "    }\n",
              "\n",
              "    [theme=dark] .colab-df-convert:hover {\n",
              "      background-color: #434B5C;\n",
              "      box-shadow: 0px 1px 3px 1px rgba(0, 0, 0, 0.15);\n",
              "      filter: drop-shadow(0px 1px 2px rgba(0, 0, 0, 0.3));\n",
              "      fill: #FFFFFF;\n",
              "    }\n",
              "  </style>\n",
              "\n",
              "      <script>\n",
              "        const buttonEl =\n",
              "          document.querySelector('#df-d1c06c25-55e6-4325-bcfe-b2d92364e294 button.colab-df-convert');\n",
              "        buttonEl.style.display =\n",
              "          google.colab.kernel.accessAllowed ? 'block' : 'none';\n",
              "\n",
              "        async function convertToInteractive(key) {\n",
              "          const element = document.querySelector('#df-d1c06c25-55e6-4325-bcfe-b2d92364e294');\n",
              "          const dataTable =\n",
              "            await google.colab.kernel.invokeFunction('convertToInteractive',\n",
              "                                                     [key], {});\n",
              "          if (!dataTable) return;\n",
              "\n",
              "          const docLinkHtml = 'Like what you see? Visit the ' +\n",
              "            '<a target=\"_blank\" href=https://colab.research.google.com/notebooks/data_table.ipynb>data table notebook</a>'\n",
              "            + ' to learn more about interactive tables.';\n",
              "          element.innerHTML = '';\n",
              "          dataTable['output_type'] = 'display_data';\n",
              "          await google.colab.output.renderOutput(dataTable, element);\n",
              "          const docLink = document.createElement('div');\n",
              "          docLink.innerHTML = docLinkHtml;\n",
              "          element.appendChild(docLink);\n",
              "        }\n",
              "      </script>\n",
              "    </div>\n",
              "  </div>\n",
              "  "
            ]
          },
          "metadata": {},
          "execution_count": 4
        }
      ]
    },
    {
      "cell_type": "code",
      "source": [
        "df['text'][0]"
      ],
      "metadata": {
        "colab": {
          "base_uri": "https://localhost:8080/",
          "height": 105
        },
        "id": "sOPL8oLHRhi5",
        "outputId": "327490b8-3a96-46d5-aff1-f9f1b749bbfb"
      },
      "execution_count": 5,
      "outputs": [
        {
          "output_type": "execute_result",
          "data": {
            "text/plain": [
              "'Paper Plane Design Framed Wall Hanging Motivational Office Decor Art Prints (8.7 X 8.7 inch) - Set of 4 Painting made up in synthetic frame with uv textured print which gives multi effects and attracts towards it. This is an special series of paintings which makes your wall very beautiful and gives a royal touch. This painting is ready to hang, you would be proud to possess this unique painting that is a niche apart. We use only the most modern and efficient printing technology on our prints, with only the and inks and precision epson, roland and hp printers. This innovative hd printing technique results in durable and spectacular looking prints of the highest that last a lifetime. We print solely with top-notch 100% inks, to achieve brilliant and true colours. Due to their high level of uv resistance, our prints retain their beautiful colours for many years. Add colour and style to your living space with this digitally printed painting. Some are for pleasure and some for eternal bliss.so bring home this elegant print that is lushed with rich colors that makes it nothing but sheer elegance to be to your friends and family.it would be treasured forever by whoever your lucky recipient is. Liven up your place with these intriguing paintings that are high definition hd graphic digital prints for home, office or any room.'"
            ],
            "application/vnd.google.colaboratory.intrinsic+json": {
              "type": "string"
            }
          },
          "metadata": {},
          "execution_count": 5
        }
      ]
    },
    {
      "cell_type": "code",
      "source": [
        "df.info()"
      ],
      "metadata": {
        "colab": {
          "base_uri": "https://localhost:8080/"
        },
        "id": "yqfFbUZfUIC_",
        "outputId": "0fefd863-803a-4ec8-e190-31d6104bf0eb"
      },
      "execution_count": 6,
      "outputs": [
        {
          "output_type": "stream",
          "name": "stdout",
          "text": [
            "<class 'pandas.core.frame.DataFrame'>\n",
            "RangeIndex: 50425 entries, 0 to 50424\n",
            "Data columns (total 2 columns):\n",
            " #   Column  Non-Null Count  Dtype \n",
            "---  ------  --------------  ----- \n",
            " 0   class   50425 non-null  object\n",
            " 1   text    50424 non-null  object\n",
            "dtypes: object(2)\n",
            "memory usage: 788.0+ KB\n"
          ]
        }
      ]
    },
    {
      "cell_type": "code",
      "source": [
        "# checking sum of nan values\n",
        "df.isna().sum()"
      ],
      "metadata": {
        "colab": {
          "base_uri": "https://localhost:8080/"
        },
        "id": "Z6P-XG8fWKpn",
        "outputId": "9292f37a-5a40-437b-8585-d244a0348e0e"
      },
      "execution_count": 7,
      "outputs": [
        {
          "output_type": "execute_result",
          "data": {
            "text/plain": [
              "class    0\n",
              "text     1\n",
              "dtype: int64"
            ]
          },
          "metadata": {},
          "execution_count": 7
        }
      ]
    },
    {
      "cell_type": "code",
      "source": [
        "# drop nan values\n",
        "df.dropna(inplace=True)"
      ],
      "metadata": {
        "id": "zuTR9w2MWP5D"
      },
      "execution_count": 8,
      "outputs": []
    },
    {
      "cell_type": "code",
      "source": [
        "# exporing duplicated values in df\n",
        "df[df.duplicated()]"
      ],
      "metadata": {
        "colab": {
          "base_uri": "https://localhost:8080/",
          "height": 424
        },
        "id": "F8A-vOhpZGH0",
        "outputId": "d77d6565-62c7-487d-9805-b2926c308949"
      },
      "execution_count": 9,
      "outputs": [
        {
          "output_type": "execute_result",
          "data": {
            "text/plain": [
              "             class                                               text\n",
              "7        Household  Pitaara Box Romantic Venice Canvas Painting 6m...\n",
              "11       Household  Paper Plane Design Starry Night Vangoh Wall Ar...\n",
              "12       Household  Pitaara Box Romantic Venice Canvas Painting 6m...\n",
              "16       Household  SAF Flower Print Framed Painting (Synthetic, 1...\n",
              "20       Household  SAF 'UV Textured Modern Art Print Framed' Pain...\n",
              "...            ...                                                ...\n",
              "50420  Electronics  Strontium MicroSD Class 10 8GB Memory Card (Bl...\n",
              "50421  Electronics  CrossBeats Wave Waterproof Bluetooth Wireless ...\n",
              "50422  Electronics  Karbonn Titanium Wind W4 (White) Karbonn Titan...\n",
              "50423  Electronics  Samsung Guru FM Plus (SM-B110E/D, Black) Colou...\n",
              "50424  Electronics                   Micromax Canvas Win W121 (White)\n",
              "\n",
              "[22622 rows x 2 columns]"
            ],
            "text/html": [
              "\n",
              "  <div id=\"df-f5b3a592-b46e-4dd1-b0ed-333de7154c75\">\n",
              "    <div class=\"colab-df-container\">\n",
              "      <div>\n",
              "<style scoped>\n",
              "    .dataframe tbody tr th:only-of-type {\n",
              "        vertical-align: middle;\n",
              "    }\n",
              "\n",
              "    .dataframe tbody tr th {\n",
              "        vertical-align: top;\n",
              "    }\n",
              "\n",
              "    .dataframe thead th {\n",
              "        text-align: right;\n",
              "    }\n",
              "</style>\n",
              "<table border=\"1\" class=\"dataframe\">\n",
              "  <thead>\n",
              "    <tr style=\"text-align: right;\">\n",
              "      <th></th>\n",
              "      <th>class</th>\n",
              "      <th>text</th>\n",
              "    </tr>\n",
              "  </thead>\n",
              "  <tbody>\n",
              "    <tr>\n",
              "      <th>7</th>\n",
              "      <td>Household</td>\n",
              "      <td>Pitaara Box Romantic Venice Canvas Painting 6m...</td>\n",
              "    </tr>\n",
              "    <tr>\n",
              "      <th>11</th>\n",
              "      <td>Household</td>\n",
              "      <td>Paper Plane Design Starry Night Vangoh Wall Ar...</td>\n",
              "    </tr>\n",
              "    <tr>\n",
              "      <th>12</th>\n",
              "      <td>Household</td>\n",
              "      <td>Pitaara Box Romantic Venice Canvas Painting 6m...</td>\n",
              "    </tr>\n",
              "    <tr>\n",
              "      <th>16</th>\n",
              "      <td>Household</td>\n",
              "      <td>SAF Flower Print Framed Painting (Synthetic, 1...</td>\n",
              "    </tr>\n",
              "    <tr>\n",
              "      <th>20</th>\n",
              "      <td>Household</td>\n",
              "      <td>SAF 'UV Textured Modern Art Print Framed' Pain...</td>\n",
              "    </tr>\n",
              "    <tr>\n",
              "      <th>...</th>\n",
              "      <td>...</td>\n",
              "      <td>...</td>\n",
              "    </tr>\n",
              "    <tr>\n",
              "      <th>50420</th>\n",
              "      <td>Electronics</td>\n",
              "      <td>Strontium MicroSD Class 10 8GB Memory Card (Bl...</td>\n",
              "    </tr>\n",
              "    <tr>\n",
              "      <th>50421</th>\n",
              "      <td>Electronics</td>\n",
              "      <td>CrossBeats Wave Waterproof Bluetooth Wireless ...</td>\n",
              "    </tr>\n",
              "    <tr>\n",
              "      <th>50422</th>\n",
              "      <td>Electronics</td>\n",
              "      <td>Karbonn Titanium Wind W4 (White) Karbonn Titan...</td>\n",
              "    </tr>\n",
              "    <tr>\n",
              "      <th>50423</th>\n",
              "      <td>Electronics</td>\n",
              "      <td>Samsung Guru FM Plus (SM-B110E/D, Black) Colou...</td>\n",
              "    </tr>\n",
              "    <tr>\n",
              "      <th>50424</th>\n",
              "      <td>Electronics</td>\n",
              "      <td>Micromax Canvas Win W121 (White)</td>\n",
              "    </tr>\n",
              "  </tbody>\n",
              "</table>\n",
              "<p>22622 rows × 2 columns</p>\n",
              "</div>\n",
              "      <button class=\"colab-df-convert\" onclick=\"convertToInteractive('df-f5b3a592-b46e-4dd1-b0ed-333de7154c75')\"\n",
              "              title=\"Convert this dataframe to an interactive table.\"\n",
              "              style=\"display:none;\">\n",
              "        \n",
              "  <svg xmlns=\"http://www.w3.org/2000/svg\" height=\"24px\"viewBox=\"0 0 24 24\"\n",
              "       width=\"24px\">\n",
              "    <path d=\"M0 0h24v24H0V0z\" fill=\"none\"/>\n",
              "    <path d=\"M18.56 5.44l.94 2.06.94-2.06 2.06-.94-2.06-.94-.94-2.06-.94 2.06-2.06.94zm-11 1L8.5 8.5l.94-2.06 2.06-.94-2.06-.94L8.5 2.5l-.94 2.06-2.06.94zm10 10l.94 2.06.94-2.06 2.06-.94-2.06-.94-.94-2.06-.94 2.06-2.06.94z\"/><path d=\"M17.41 7.96l-1.37-1.37c-.4-.4-.92-.59-1.43-.59-.52 0-1.04.2-1.43.59L10.3 9.45l-7.72 7.72c-.78.78-.78 2.05 0 2.83L4 21.41c.39.39.9.59 1.41.59.51 0 1.02-.2 1.41-.59l7.78-7.78 2.81-2.81c.8-.78.8-2.07 0-2.86zM5.41 20L4 18.59l7.72-7.72 1.47 1.35L5.41 20z\"/>\n",
              "  </svg>\n",
              "      </button>\n",
              "      \n",
              "  <style>\n",
              "    .colab-df-container {\n",
              "      display:flex;\n",
              "      flex-wrap:wrap;\n",
              "      gap: 12px;\n",
              "    }\n",
              "\n",
              "    .colab-df-convert {\n",
              "      background-color: #E8F0FE;\n",
              "      border: none;\n",
              "      border-radius: 50%;\n",
              "      cursor: pointer;\n",
              "      display: none;\n",
              "      fill: #1967D2;\n",
              "      height: 32px;\n",
              "      padding: 0 0 0 0;\n",
              "      width: 32px;\n",
              "    }\n",
              "\n",
              "    .colab-df-convert:hover {\n",
              "      background-color: #E2EBFA;\n",
              "      box-shadow: 0px 1px 2px rgba(60, 64, 67, 0.3), 0px 1px 3px 1px rgba(60, 64, 67, 0.15);\n",
              "      fill: #174EA6;\n",
              "    }\n",
              "\n",
              "    [theme=dark] .colab-df-convert {\n",
              "      background-color: #3B4455;\n",
              "      fill: #D2E3FC;\n",
              "    }\n",
              "\n",
              "    [theme=dark] .colab-df-convert:hover {\n",
              "      background-color: #434B5C;\n",
              "      box-shadow: 0px 1px 3px 1px rgba(0, 0, 0, 0.15);\n",
              "      filter: drop-shadow(0px 1px 2px rgba(0, 0, 0, 0.3));\n",
              "      fill: #FFFFFF;\n",
              "    }\n",
              "  </style>\n",
              "\n",
              "      <script>\n",
              "        const buttonEl =\n",
              "          document.querySelector('#df-f5b3a592-b46e-4dd1-b0ed-333de7154c75 button.colab-df-convert');\n",
              "        buttonEl.style.display =\n",
              "          google.colab.kernel.accessAllowed ? 'block' : 'none';\n",
              "\n",
              "        async function convertToInteractive(key) {\n",
              "          const element = document.querySelector('#df-f5b3a592-b46e-4dd1-b0ed-333de7154c75');\n",
              "          const dataTable =\n",
              "            await google.colab.kernel.invokeFunction('convertToInteractive',\n",
              "                                                     [key], {});\n",
              "          if (!dataTable) return;\n",
              "\n",
              "          const docLinkHtml = 'Like what you see? Visit the ' +\n",
              "            '<a target=\"_blank\" href=https://colab.research.google.com/notebooks/data_table.ipynb>data table notebook</a>'\n",
              "            + ' to learn more about interactive tables.';\n",
              "          element.innerHTML = '';\n",
              "          dataTable['output_type'] = 'display_data';\n",
              "          await google.colab.output.renderOutput(dataTable, element);\n",
              "          const docLink = document.createElement('div');\n",
              "          docLink.innerHTML = docLinkHtml;\n",
              "          element.appendChild(docLink);\n",
              "        }\n",
              "      </script>\n",
              "    </div>\n",
              "  </div>\n",
              "  "
            ]
          },
          "metadata": {},
          "execution_count": 9
        }
      ]
    },
    {
      "cell_type": "code",
      "source": [
        "# drop duplicates\n",
        "df =df.drop_duplicates()"
      ],
      "metadata": {
        "id": "zdjuM2G6X_zp"
      },
      "execution_count": 10,
      "outputs": []
    },
    {
      "cell_type": "markdown",
      "source": [
        "### EDA"
      ],
      "metadata": {
        "id": "Z2mDkFKmSBTX"
      }
    },
    {
      "cell_type": "code",
      "source": [
        "print(f\"Data {df.shape[0]} rows and {df.shape[1]} columns\")"
      ],
      "metadata": {
        "colab": {
          "base_uri": "https://localhost:8080/"
        },
        "id": "9MSUSkEhRlEB",
        "outputId": "2541b01f-de25-434c-e9ba-84837ea20992"
      },
      "execution_count": 11,
      "outputs": [
        {
          "output_type": "stream",
          "name": "stdout",
          "text": [
            "Data 27802 rows and 2 columns\n"
          ]
        }
      ]
    },
    {
      "cell_type": "code",
      "source": [
        "plt.figure(figsize=(10,5))\n",
        "sns.countplot(x='class',data=df)\n",
        "plt.title('Distribution of class')\n",
        "plt.show()"
      ],
      "metadata": {
        "colab": {
          "base_uri": "https://localhost:8080/",
          "height": 350
        },
        "id": "oFEPertpS2vz",
        "outputId": "74ecda8d-4849-4dfc-9a1f-b93f7e1e9ced"
      },
      "execution_count": 12,
      "outputs": [
        {
          "output_type": "display_data",
          "data": {
            "text/plain": [
              "<Figure size 720x360 with 1 Axes>"
            ],
            "image/png": "[encoded data removed]"
          },
          "metadata": {
            "needs_background": "light"
          }
        }
      ]
    },
    {
      "cell_type": "markdown",
      "source": [
        "House hold has more number describtion than other 3 classes. And also we can see that distribution between household and other 3 classes is not balanced.So we can try class balancing techniques."
      ],
      "metadata": {
        "id": "deJbx2B7kUFn"
      }
    },
    {
      "cell_type": "code",
      "source": [
        "df_copy = df.copy()\n",
        "df_copy['text_length'] = df_copy['text'].apply(lambda x: len(x.split(\" \")))\n",
        "plt.figure(figsize=(10,5))\n",
        "sns.kdeplot(df_copy.text_length, hue=df_copy['class'], palette=\"tab10\")\n",
        "plt.title(\"Distribution of text length (number of words)\")"
      ],
      "metadata": {
        "colab": {
          "base_uri": "https://localhost:8080/",
          "height": 368
        },
        "id": "5_MfrIvZTFlj",
        "outputId": "75225dcf-31e3-4ce1-9161-56e9f15d822a"
      },
      "execution_count": 13,
      "outputs": [
        {
          "output_type": "execute_result",
          "data": {
            "text/plain": [
              "Text(0.5, 1.0, 'Distribution of text length (number of words)')"
            ]
          },
          "metadata": {},
          "execution_count": 13
        },
        {
          "output_type": "display_data",
          "data": {
            "text/plain": [
              "<Figure size 720x360 with 1 Axes>"
            ],
            "image/png": "[encoded data removed]"
          },
          "metadata": {
            "needs_background": "light"
          }
        }
      ]
    },
    {
      "cell_type": "code",
      "source": [
        "df_copy['text_length'].describe()"
      ],
      "metadata": {
        "colab": {
          "base_uri": "https://localhost:8080/"
        },
        "id": "2zG2IG1MU_Rs",
        "outputId": "19763947-6d62-4e28-f90e-d4da28dd6026"
      },
      "execution_count": 14,
      "outputs": [
        {
          "output_type": "execute_result",
          "data": {
            "text/plain": [
              "count    27802.000000\n",
              "mean       116.338105\n",
              "std        169.523543\n",
              "min          1.000000\n",
              "25%         35.000000\n",
              "50%         78.000000\n",
              "75%        154.000000\n",
              "max       8183.000000\n",
              "Name: text_length, dtype: float64"
            ]
          },
          "metadata": {},
          "execution_count": 14
        }
      ]
    },
    {
      "cell_type": "code",
      "source": [
        "np.quantile(df_copy['text_length'].tolist(), .95)"
      ],
      "metadata": {
        "colab": {
          "base_uri": "https://localhost:8080/"
        },
        "id": "39hkZr-Wk6kz",
        "outputId": "c80a1502-3c4b-43f6-b3a0-194ed6cef2e1"
      },
      "execution_count": 15,
      "outputs": [
        {
          "output_type": "execute_result",
          "data": {
            "text/plain": [
              "317.0"
            ]
          },
          "metadata": {},
          "execution_count": 15
        }
      ]
    },
    {
      "cell_type": "markdown",
      "source": [
        "95% of text tength is 317 . So we can use max text length aroung 350."
      ],
      "metadata": {
        "id": "oYhb7WDNkxvK"
      }
    },
    {
      "cell_type": "code",
      "source": [
        "REPLACE_BY_SPACE_RE = re.compile('[/(){}\\[\\]\\|@,;]')\n",
        "BAD_SYMBOLS_RE = re.compile('[^0-9a-z #+_]')\n",
        "STOPWORDS = set(stopwords.words('english'))"
      ],
      "metadata": {
        "id": "3BlNf8x1-TjU"
      },
      "execution_count": 18,
      "outputs": []
    },
    {
      "cell_type": "code",
      "source": [
        "def clean_text(text):\n",
        "    \"\"\"\n",
        "        text: a string\n",
        "        \n",
        "        return: modified initial string\n",
        "    \"\"\"\n",
        "    text = text.lower() # lowercase text\n",
        "    text = REPLACE_BY_SPACE_RE.sub(' ', text) # replace REPLACE_BY_SPACE_RE symbols by space in text. substitute the matched string in REPLACE_BY_SPACE_RE with space.\n",
        "    text = BAD_SYMBOLS_RE.sub('', text) # remove symbols which are in BAD_SYMBOLS_RE from text. substitute the matched string in BAD_SYMBOLS_RE with nothing. \n",
        "    text = text.replace('x', '')\n",
        "#    text = re.sub(r'\\W+', '', text)\n",
        "    text = ' '.join(word for word in text.split() if word not in STOPWORDS) # remove stopwors from text\n",
        "    return text\n",
        "\n",
        "df['cleaned_text'] = df['text'].apply(clean_text)"
      ],
      "metadata": {
        "id": "IjRyBkXL_Ll3"
      },
      "execution_count": 19,
      "outputs": []
    },
    {
      "cell_type": "code",
      "source": [
        "df.head()"
      ],
      "metadata": {
        "colab": {
          "base_uri": "https://localhost:8080/",
          "height": 206
        },
        "id": "tji3IBu-_YhX",
        "outputId": "c0e2e3e3-ba62-4e18-80ae-697e165050ba"
      },
      "execution_count": 20,
      "outputs": [
        {
          "output_type": "execute_result",
          "data": {
            "text/plain": [
              "       class                                               text  \\\n",
              "0  Household  Paper Plane Design Framed Wall Hanging Motivat...   \n",
              "1  Household  SAF 'Floral' Framed Painting (Wood, 30 inch x ...   \n",
              "2  Household  SAF 'UV Textured Modern Art Print Framed' Pain...   \n",
              "3  Household  SAF Flower Print Framed Painting (Synthetic, 1...   \n",
              "4  Household  Incredible Gifts India Wooden Happy Birthday U...   \n",
              "\n",
              "                                        cleaned_text  \n",
              "0  paper plane design framed wall hanging motivat...  \n",
              "1  saf floral framed painting wood 30 inch 10 inc...  \n",
              "2  saf uv tetured modern art print framed paintin...  \n",
              "3  saf flower print framed painting synthetic 135...  \n",
              "4  incredible gifts india wooden happy birthday u...  "
            ],
            "text/html": [
              "\n",
              "  <div id=\"df-79c87024-b127-4e24-83dc-65f1d887337f\">\n",
              "    <div class=\"colab-df-container\">\n",
              "      <div>\n",
              "<style scoped>\n",
              "    .dataframe tbody tr th:only-of-type {\n",
              "        vertical-align: middle;\n",
              "    }\n",
              "\n",
              "    .dataframe tbody tr th {\n",
              "        vertical-align: top;\n",
              "    }\n",
              "\n",
              "    .dataframe thead th {\n",
              "        text-align: right;\n",
              "    }\n",
              "</style>\n",
              "<table border=\"1\" class=\"dataframe\">\n",
              "  <thead>\n",
              "    <tr style=\"text-align: right;\">\n",
              "      <th></th>\n",
              "      <th>class</th>\n",
              "      <th>text</th>\n",
              "      <th>cleaned_text</th>\n",
              "    </tr>\n",
              "  </thead>\n",
              "  <tbody>\n",
              "    <tr>\n",
              "      <th>0</th>\n",
              "      <td>Household</td>\n",
              "      <td>Paper Plane Design Framed Wall Hanging Motivat...</td>\n",
              "      <td>paper plane design framed wall hanging motivat...</td>\n",
              "    </tr>\n",
              "    <tr>\n",
              "      <th>1</th>\n",
              "      <td>Household</td>\n",
              "      <td>SAF 'Floral' Framed Painting (Wood, 30 inch x ...</td>\n",
              "      <td>saf floral framed painting wood 30 inch 10 inc...</td>\n",
              "    </tr>\n",
              "    <tr>\n",
              "      <th>2</th>\n",
              "      <td>Household</td>\n",
              "      <td>SAF 'UV Textured Modern Art Print Framed' Pain...</td>\n",
              "      <td>saf uv tetured modern art print framed paintin...</td>\n",
              "    </tr>\n",
              "    <tr>\n",
              "      <th>3</th>\n",
              "      <td>Household</td>\n",
              "      <td>SAF Flower Print Framed Painting (Synthetic, 1...</td>\n",
              "      <td>saf flower print framed painting synthetic 135...</td>\n",
              "    </tr>\n",
              "    <tr>\n",
              "      <th>4</th>\n",
              "      <td>Household</td>\n",
              "      <td>Incredible Gifts India Wooden Happy Birthday U...</td>\n",
              "      <td>incredible gifts india wooden happy birthday u...</td>\n",
              "    </tr>\n",
              "  </tbody>\n",
              "</table>\n",
              "</div>\n",
              "      <button class=\"colab-df-convert\" onclick=\"convertToInteractive('df-79c87024-b127-4e24-83dc-65f1d887337f')\"\n",
              "              title=\"Convert this dataframe to an interactive table.\"\n",
              "              style=\"display:none;\">\n",
              "        \n",
              "  <svg xmlns=\"http://www.w3.org/2000/svg\" height=\"24px\"viewBox=\"0 0 24 24\"\n",
              "       width=\"24px\">\n",
              "    <path d=\"M0 0h24v24H0V0z\" fill=\"none\"/>\n",
              "    <path d=\"M18.56 5.44l.94 2.06.94-2.06 2.06-.94-2.06-.94-.94-2.06-.94 2.06-2.06.94zm-11 1L8.5 8.5l.94-2.06 2.06-.94-2.06-.94L8.5 2.5l-.94 2.06-2.06.94zm10 10l.94 2.06.94-2.06 2.06-.94-2.06-.94-.94-2.06-.94 2.06-2.06.94z\"/><path d=\"M17.41 7.96l-1.37-1.37c-.4-.4-.92-.59-1.43-.59-.52 0-1.04.2-1.43.59L10.3 9.45l-7.72 7.72c-.78.78-.78 2.05 0 2.83L4 21.41c.39.39.9.59 1.41.59.51 0 1.02-.2 1.41-.59l7.78-7.78 2.81-2.81c.8-.78.8-2.07 0-2.86zM5.41 20L4 18.59l7.72-7.72 1.47 1.35L5.41 20z\"/>\n",
              "  </svg>\n",
              "      </button>\n",
              "      \n",
              "  <style>\n",
              "    .colab-df-container {\n",
              "      display:flex;\n",
              "      flex-wrap:wrap;\n",
              "      gap: 12px;\n",
              "    }\n",
              "\n",
              "    .colab-df-convert {\n",
              "      background-color: #E8F0FE;\n",
              "      border: none;\n",
              "      border-radius: 50%;\n",
              "      cursor: pointer;\n",
              "      display: none;\n",
              "      fill: #1967D2;\n",
              "      height: 32px;\n",
              "      padding: 0 0 0 0;\n",
              "      width: 32px;\n",
              "    }\n",
              "\n",
              "    .colab-df-convert:hover {\n",
              "      background-color: #E2EBFA;\n",
              "      box-shadow: 0px 1px 2px rgba(60, 64, 67, 0.3), 0px 1px 3px 1px rgba(60, 64, 67, 0.15);\n",
              "      fill: #174EA6;\n",
              "    }\n",
              "\n",
              "    [theme=dark] .colab-df-convert {\n",
              "      background-color: #3B4455;\n",
              "      fill: #D2E3FC;\n",
              "    }\n",
              "\n",
              "    [theme=dark] .colab-df-convert:hover {\n",
              "      background-color: #434B5C;\n",
              "      box-shadow: 0px 1px 3px 1px rgba(0, 0, 0, 0.15);\n",
              "      filter: drop-shadow(0px 1px 2px rgba(0, 0, 0, 0.3));\n",
              "      fill: #FFFFFF;\n",
              "    }\n",
              "  </style>\n",
              "\n",
              "      <script>\n",
              "        const buttonEl =\n",
              "          document.querySelector('#df-79c87024-b127-4e24-83dc-65f1d887337f button.colab-df-convert');\n",
              "        buttonEl.style.display =\n",
              "          google.colab.kernel.accessAllowed ? 'block' : 'none';\n",
              "\n",
              "        async function convertToInteractive(key) {\n",
              "          const element = document.querySelector('#df-79c87024-b127-4e24-83dc-65f1d887337f');\n",
              "          const dataTable =\n",
              "            await google.colab.kernel.invokeFunction('convertToInteractive',\n",
              "                                                     [key], {});\n",
              "          if (!dataTable) return;\n",
              "\n",
              "          const docLinkHtml = 'Like what you see? Visit the ' +\n",
              "            '<a target=\"_blank\" href=https://colab.research.google.com/notebooks/data_table.ipynb>data table notebook</a>'\n",
              "            + ' to learn more about interactive tables.';\n",
              "          element.innerHTML = '';\n",
              "          dataTable['output_type'] = 'display_data';\n",
              "          await google.colab.output.renderOutput(dataTable, element);\n",
              "          const docLink = document.createElement('div');\n",
              "          docLink.innerHTML = docLinkHtml;\n",
              "          element.appendChild(docLink);\n",
              "        }\n",
              "      </script>\n",
              "    </div>\n",
              "  </div>\n",
              "  "
            ]
          },
          "metadata": {},
          "execution_count": 20
        }
      ]
    },
    {
      "cell_type": "code",
      "source": [
        "print(df['text'][0])"
      ],
      "metadata": {
        "colab": {
          "base_uri": "https://localhost:8080/"
        },
        "id": "sI7UWip4_cNn",
        "outputId": "3d502632-b4a1-4f80-efaa-a1bcb45a6920"
      },
      "execution_count": 21,
      "outputs": [
        {
          "output_type": "stream",
          "name": "stdout",
          "text": [
            "Paper Plane Design Framed Wall Hanging Motivational Office Decor Art Prints (8.7 X 8.7 inch) - Set of 4 Painting made up in synthetic frame with uv textured print which gives multi effects and attracts towards it. This is an special series of paintings which makes your wall very beautiful and gives a royal touch. This painting is ready to hang, you would be proud to possess this unique painting that is a niche apart. We use only the most modern and efficient printing technology on our prints, with only the and inks and precision epson, roland and hp printers. This innovative hd printing technique results in durable and spectacular looking prints of the highest that last a lifetime. We print solely with top-notch 100% inks, to achieve brilliant and true colours. Due to their high level of uv resistance, our prints retain their beautiful colours for many years. Add colour and style to your living space with this digitally printed painting. Some are for pleasure and some for eternal bliss.so bring home this elegant print that is lushed with rich colors that makes it nothing but sheer elegance to be to your friends and family.it would be treasured forever by whoever your lucky recipient is. Liven up your place with these intriguing paintings that are high definition hd graphic digital prints for home, office or any room.\n"
          ]
        }
      ]
    },
    {
      "cell_type": "code",
      "source": [
        "# label encoding target values\n",
        "label_encoder = preprocessing.LabelEncoder()\n",
        "df['labeled_class']= label_encoder.fit_transform(df['class'])"
      ],
      "metadata": {
        "id": "fVLFrN6ziQ1m"
      },
      "execution_count": 22,
      "outputs": []
    },
    {
      "cell_type": "code",
      "source": [
        "df['labeled_class'].unique()"
      ],
      "metadata": {
        "colab": {
          "base_uri": "https://localhost:8080/"
        },
        "id": "xOCxHdbViei7",
        "outputId": "4df1fa15-5143-421f-bf30-79fec2315709"
      },
      "execution_count": 23,
      "outputs": [
        {
          "output_type": "execute_result",
          "data": {
            "text/plain": [
              "array([3, 0, 1, 2])"
            ]
          },
          "metadata": {},
          "execution_count": 23
        }
      ]
    },
    {
      "cell_type": "code",
      "source": [
        "X = df['cleaned_text']\n",
        "y = df['labeled_class']"
      ],
      "metadata": {
        "id": "nuqZ1hWheMyV"
      },
      "execution_count": 24,
      "outputs": []
    },
    {
      "cell_type": "code",
      "source": [
        "train_ratio = 0.75\n",
        "validation_ratio = 0.15\n",
        "test_ratio = 0.10\n",
        "\n",
        "x_train, x_test, y_train, y_test = train_test_split(X, y, test_size=1 - train_ratio, random_state =42 , stratify=y)\n",
        "x_val, x_test, y_val, y_test = train_test_split(x_test, y_test, test_size=test_ratio/(test_ratio + validation_ratio) , random_state =42 , stratify=y_test) \n",
        "\n",
        "print(x_train.shape, x_val.shape, x_test.shape)"
      ],
      "metadata": {
        "colab": {
          "base_uri": "https://localhost:8080/"
        },
        "id": "B_uuGg8QeGbU",
        "outputId": "7122d89c-84b7-48b1-d7e7-c3d70dbbf66b"
      },
      "execution_count": 25,
      "outputs": [
        {
          "output_type": "stream",
          "name": "stdout",
          "text": [
            "(20851,) (4170,) (2781,)\n"
          ]
        }
      ]
    },
    {
      "cell_type": "code",
      "source": [
        "# TFID Vectorizer\n",
        "tfidf_vectorizer = TfidfVectorizer() \n",
        "\n",
        "tfidf_train_vectors = tfidf_vectorizer.fit_transform(x_train)\n",
        "tfidf_test_vectors = tfidf_vectorizer.transform(x_test)\n",
        "tfidf_val_vectors = tfidf_vectorizer.transform(x_val)"
      ],
      "metadata": {
        "id": "Nl-SYn2O_hTY"
      },
      "execution_count": 26,
      "outputs": []
    },
    {
      "cell_type": "markdown",
      "source": [
        "###  Base line Model \n",
        "##### Naive Bayes"
      ],
      "metadata": {
        "id": "yb-hSP2wj0bJ"
      }
    },
    {
      "cell_type": "code",
      "source": [
        "multi_NB = MultinomialNB().fit(tfidf_train_vectors, y_train)\n",
        "y_pred_NB=multi_NB.predict(tfidf_test_vectors)"
      ],
      "metadata": {
        "id": "xC706dUifP8n"
      },
      "execution_count": 27,
      "outputs": []
    },
    {
      "cell_type": "code",
      "source": [
        "accuracy = metrics.accuracy_score(y_true=y_test, y_pred=y_pred_NB)\n",
        "print(\"accuracy is :\",accuracy)\n",
        "classification_report = metrics.classification_report(y_test, y_pred_NB)\n",
        "print(classification_report)"
      ],
      "metadata": {
        "colab": {
          "base_uri": "https://localhost:8080/"
        },
        "id": "rx0bV4B4jMEs",
        "outputId": "1afc4765-7882-4039-901e-d90a632c0019"
      },
      "execution_count": 28,
      "outputs": [
        {
          "output_type": "stream",
          "name": "stdout",
          "text": [
            "accuracy is : 0.9187342682488313\n",
            "              precision    recall  f1-score   support\n",
            "\n",
            "           0       0.97      0.87      0.92       626\n",
            "           1       0.98      0.93      0.95       568\n",
            "           2       0.96      0.84      0.89       531\n",
            "           3       0.85      0.98      0.91      1056\n",
            "\n",
            "    accuracy                           0.92      2781\n",
            "   macro avg       0.94      0.91      0.92      2781\n",
            "weighted avg       0.92      0.92      0.92      2781\n",
            "\n"
          ]
        }
      ]
    },
    {
      "cell_type": "code",
      "source": [
        "def model_evaluation(alpha ,name , classifier,myTable):\n",
        "  cv_f1_score = []\n",
        "  for i in alpha:\n",
        "      print(\"for alpha =\", i)\n",
        "      clf = classifier(alpha=i)\n",
        "      clf.fit(tfidf_train_vectors, y_train)\n",
        "      y_predicted = clf.predict(tfidf_val_vectors)\n",
        "      f1_score = metrics.f1_score(y_val, y_predicted, average='micro')\n",
        "      accuracy = metrics.accuracy_score(y_val, y_predicted)\n",
        "      cv_f1_score.append(f1_score)\n",
        "      print(\"Accuracy :\",accuracy) \n",
        "\n",
        "  fig, ax = plt.subplots()\n",
        "  ax.plot(np.log10(alpha), cv_f1_score,c='g')\n",
        "  for i, txt in enumerate(np.round(cv_f1_score,3)):\n",
        "      ax.annotate((alpha[i],str(txt)), (np.log10(alpha[i]),cv_f1_score[i]))\n",
        "  plt.grid()\n",
        "  plt.xticks(np.log10(alpha))\n",
        "  plt.title(\"Cross Validation Error for each alpha\")\n",
        "  plt.xlabel(\"Alpha i's\")\n",
        "  plt.ylabel(\"Error measure\")\n",
        "  plt.show()\n",
        "\n",
        "  best_alpha = np.argmax(cv_f1_score)\n",
        "  print(\" The best Alpha is :\",alpha[best_alpha])\n",
        "  clf = classifier(alpha=alpha[best_alpha])\n",
        "  clf.fit(tfidf_train_vectors, y_train)\n",
        "\n",
        "  predict_y = clf.predict(tfidf_train_vectors)\n",
        "  print('For values of best alpha = ', alpha[best_alpha], \"The train f1 score is:\",metrics.f1_score(y_train, predict_y, average='micro'))\n",
        "  predict_y = clf.predict(tfidf_val_vectors)\n",
        "  print('For values of best alpha = ', alpha[best_alpha], \"The cross validation f1 score is:\",metrics.f1_score(y_val, predict_y, average='micro'))\n",
        "  predict_y = clf.predict(tfidf_test_vectors)\n",
        "  test_f1_score = metrics.f1_score(y_test, predict_y, average='micro')\n",
        "  print('For values of best alpha = ', alpha[best_alpha], \"The test f1 score is:\",test_f1_score)\n",
        "\n",
        "  classification_report = metrics.classification_report(y_test, predict_y)\n",
        "  print(classification_report)\n",
        "  myTable.add_row([name,test_f1_score])"
      ],
      "metadata": {
        "id": "PysSBWJBwS_n"
      },
      "execution_count": 29,
      "outputs": []
    },
    {
      "cell_type": "code",
      "source": [
        "from prettytable import PrettyTable\n",
        "myTable = PrettyTable([\"Model\", \"F1-SCORE\"])\n",
        "\n",
        "model_evaluation([0.00001, 0.0001, 0.001, 0.1, 1, 10, 100,1000],\"NB Hyper Tuning\" ,MultinomialNB , myTable)"
      ],
      "metadata": {
        "colab": {
          "base_uri": "https://localhost:8080/",
          "height": 833
        },
        "id": "qACwvLl_qliB",
        "outputId": "1d5d1692-d89e-414b-f61e-4804f79c7a62"
      },
      "execution_count": 30,
      "outputs": [
        {
          "output_type": "stream",
          "name": "stdout",
          "text": [
            "for alpha = 1e-05\n",
            "Accuracy : 0.9417266187050359\n",
            "for alpha = 0.0001\n",
            "Accuracy : 0.9434052757793765\n",
            "for alpha = 0.001\n",
            "Accuracy : 0.943884892086331\n",
            "for alpha = 0.1\n",
            "Accuracy : 0.9434052757793765\n",
            "for alpha = 1\n",
            "Accuracy : 0.9179856115107914\n",
            "for alpha = 10\n",
            "Accuracy : 0.8270983213429257\n",
            "for alpha = 100\n",
            "Accuracy : 0.44916067146282973\n",
            "for alpha = 1000\n",
            "Accuracy : 0.3800959232613909\n"
          ]
        },
        {
          "output_type": "display_data",
          "data": {
            "text/plain": [
              "<Figure size 432x288 with 1 Axes>"
            ],
            "image/png": "[encoded data removed]"
          },
          "metadata": {
            "needs_background": "light"
          }
        },
        {
          "output_type": "stream",
          "name": "stdout",
          "text": [
            " The best Alpha is : 0.001\n",
            "For values of best alpha =  0.001 The train f1 score is: 0.9818234137451441\n",
            "For values of best alpha =  0.001 The cross validation f1 score is: 0.943884892086331\n",
            "For values of best alpha =  0.001 The test f1 score is: 0.9475008989572097\n",
            "              precision    recall  f1-score   support\n",
            "\n",
            "           0       0.96      0.91      0.94       626\n",
            "           1       0.98      0.96      0.97       568\n",
            "           2       0.93      0.95      0.94       531\n",
            "           3       0.93      0.96      0.95      1056\n",
            "\n",
            "    accuracy                           0.95      2781\n",
            "   macro avg       0.95      0.95      0.95      2781\n",
            "weighted avg       0.95      0.95      0.95      2781\n",
            "\n"
          ]
        }
      ]
    },
    {
      "cell_type": "markdown",
      "source": [
        "### Hyper Parameter Tuned SGDC (log loss)"
      ],
      "metadata": {
        "id": "F6BJQakW8NLa"
      }
    },
    {
      "cell_type": "code",
      "source": [
        "# SGDC log loss (Logistic )\n",
        "alpha = [10 ** x for x in range(-6, 3)]\n",
        "cv_f1_score = []\n",
        "for i in alpha:\n",
        "    print(\"for alpha =\", i)\n",
        "    clf = SGDClassifier(class_weight='balanced', alpha=i, penalty='l2', loss='log', random_state=42)\n",
        "    clf.fit(tfidf_train_vectors, y_train)\n",
        "    y_predicted = clf.predict(tfidf_val_vectors)\n",
        "    f1_score = metrics.f1_score(y_val, y_predicted, average='micro')\n",
        "    accuracy = metrics.accuracy_score(y_val, y_predicted)\n",
        "    cv_f1_score.append(f1_score)\n",
        "    print(\"Accuracy :\",accuracy) \n",
        "\n",
        "fig, ax = plt.subplots()\n",
        "ax.plot(np.log10(alpha), cv_f1_score,c='g')\n",
        "for i, txt in enumerate(np.round(cv_f1_score,3)):\n",
        "    ax.annotate((alpha[i],str(txt)), (np.log10(alpha[i]),cv_f1_score[i]))\n",
        "plt.grid()\n",
        "plt.xticks(np.log10(alpha))\n",
        "plt.title(\"Cross Validation Error for each alpha\")\n",
        "plt.xlabel(\"Alpha i's\")\n",
        "plt.ylabel(\"Error measure\")\n",
        "plt.show()\n",
        "\n",
        "best_alpha = np.argmax(cv_f1_score)\n",
        "print(\" The best Alpha is :\",alpha[best_alpha])\n",
        "clf = SGDClassifier(class_weight='balanced', alpha=alpha[best_alpha], penalty='l2', loss='log', random_state=42)\n",
        "clf.fit(tfidf_train_vectors, y_train)\n",
        "\n",
        "predict_y = clf.predict(tfidf_train_vectors)\n",
        "print('For values of best alpha = ', alpha[best_alpha], \"The train f1 score is:\",metrics.f1_score(y_train, predict_y, average='micro'))\n",
        "predict_y = clf.predict(tfidf_val_vectors)\n",
        "print('For values of best alpha = ', alpha[best_alpha], \"The cross validation f1 score is:\",metrics.f1_score(y_val, predict_y, average='micro'))\n",
        "predict_y = clf.predict(tfidf_test_vectors)\n",
        "test_f1_score = metrics.f1_score(y_test, predict_y, average='micro')\n",
        "print('For values of best alpha = ', alpha[best_alpha], \"The test f1 score is:\",test_f1_score)\n",
        "\n",
        "classification_report = metrics.classification_report(y_test, predict_y)\n",
        "print(classification_report)\n",
        "myTable.add_row([\"SGDC log loss\",test_f1_score])"
      ],
      "metadata": {
        "colab": {
          "base_uri": "https://localhost:8080/",
          "height": 868
        },
        "id": "y8R-Ec_YyI4l",
        "outputId": "1aca98e6-5a0b-4f25-f349-ab0de497e149"
      },
      "execution_count": 32,
      "outputs": [
        {
          "output_type": "stream",
          "name": "stdout",
          "text": [
            "for alpha = 1e-06\n",
            "Accuracy : 0.9556354916067147\n",
            "for alpha = 1e-05\n",
            "Accuracy : 0.9544364508393285\n",
            "for alpha = 0.0001\n",
            "Accuracy : 0.9436450839328537\n",
            "for alpha = 0.001\n",
            "Accuracy : 0.9302158273381295\n",
            "for alpha = 0.01\n",
            "Accuracy : 0.750599520383693\n",
            "for alpha = 0.1\n",
            "Accuracy : 0.4143884892086331\n",
            "for alpha = 1\n",
            "Accuracy : 0.40335731414868103\n",
            "for alpha = 10\n",
            "Accuracy : 0.1908872901678657\n",
            "for alpha = 100\n",
            "Accuracy : 0.1908872901678657\n"
          ]
        },
        {
          "output_type": "display_data",
          "data": {
            "text/plain": [
              "<Figure size 432x288 with 1 Axes>"
            ],
            "image/png": "[encoded data removed]"
          },
          "metadata": {
            "needs_background": "light"
          }
        },
        {
          "output_type": "stream",
          "name": "stdout",
          "text": [
            " The best Alpha is : 1e-06\n",
            "For values of best alpha =  1e-06 The train f1 score is: 0.9990887727207328\n",
            "For values of best alpha =  1e-06 The cross validation f1 score is: 0.9556354916067147\n",
            "For values of best alpha =  1e-06 The test f1 score is: 0.9590075512405609\n",
            "              precision    recall  f1-score   support\n",
            "\n",
            "           0       0.96      0.94      0.95       626\n",
            "           1       0.98      0.98      0.98       568\n",
            "           2       0.95      0.95      0.95       531\n",
            "           3       0.95      0.97      0.96      1056\n",
            "\n",
            "    accuracy                           0.96      2781\n",
            "   macro avg       0.96      0.96      0.96      2781\n",
            "weighted avg       0.96      0.96      0.96      2781\n",
            "\n"
          ]
        }
      ]
    },
    {
      "cell_type": "markdown",
      "source": [
        "### Hyper Parameter Tuned SGDC (hinge loss)"
      ],
      "metadata": {
        "id": "DTyvh-OC8hPq"
      }
    },
    {
      "cell_type": "code",
      "source": [
        "# SGDC hinge loss (Linear SVM)\n",
        "\n",
        "\n",
        "alpha = [10 ** x for x in range(-5, 3)]\n",
        "cv_f1_score = []\n",
        "for i in alpha:\n",
        "    print(\"for alpha =\", i)\n",
        "    clf = SGDClassifier(class_weight='balanced', alpha=i, penalty='l2', loss='hinge', random_state=42)\n",
        "    clf.fit(tfidf_train_vectors, y_train)\n",
        "    y_predicted = clf.predict(tfidf_val_vectors)\n",
        "    f1_score = metrics.f1_score(y_val, y_predicted, average='micro')\n",
        "    accuracy = metrics.accuracy_score(y_val, y_predicted)\n",
        "    cv_f1_score.append(f1_score)\n",
        "    print(\"Accuracy :\",accuracy) \n",
        "\n",
        "fig, ax = plt.subplots()\n",
        "ax.plot(np.log10(alpha), cv_f1_score,c='g')\n",
        "for i, txt in enumerate(np.round(cv_f1_score,3)):\n",
        "    ax.annotate((alpha[i],str(txt)), (np.log10(alpha[i]),cv_f1_score[i]))\n",
        "plt.grid()\n",
        "plt.xticks(np.log10(alpha))\n",
        "plt.title(\"Cross Validation Error for each alpha\")\n",
        "plt.xlabel(\"Alpha i's\")\n",
        "plt.ylabel(\"Error measure\")\n",
        "plt.show()\n",
        "\n",
        "best_alpha = np.argmax(cv_f1_score)\n",
        "print(\" The best Alpha is :\",alpha[best_alpha])\n",
        "clf = SGDClassifier(class_weight='balanced', alpha=alpha[best_alpha], penalty='l2', loss='hinge', random_state=42)\n",
        "clf.fit(tfidf_train_vectors, y_train)\n",
        "\n",
        "predict_y = clf.predict(tfidf_train_vectors)\n",
        "print('For values of best alpha = ', alpha[best_alpha], \"The train f1 score is:\",metrics.f1_score(y_train, predict_y, average='micro'))\n",
        "predict_y = clf.predict(tfidf_val_vectors)\n",
        "print('For values of best alpha = ', alpha[best_alpha], \"The cross validation f1 score is:\",metrics.f1_score(y_val, predict_y, average='micro'))\n",
        "predict_y = clf.predict(tfidf_test_vectors)\n",
        "test_f1_score = metrics.f1_score(y_test, predict_y, average='micro')\n",
        "print('For values of best alpha = ', alpha[best_alpha], \"The test f1 score is:\",test_f1_score)\n",
        "\n",
        "classification_report = metrics.classification_report(y_test, predict_y)\n",
        "print(classification_report)\n",
        "myTable.add_row([\"SGDC Hinge loss\",test_f1_score])"
      ],
      "metadata": {
        "colab": {
          "base_uri": "https://localhost:8080/",
          "height": 833
        },
        "id": "ew3X7-JxBHCB",
        "outputId": "515d5a14-6ddf-4d3b-dac2-789914c222f3"
      },
      "execution_count": 33,
      "outputs": [
        {
          "output_type": "stream",
          "name": "stdout",
          "text": [
            "for alpha = 1e-05\n",
            "Accuracy : 0.9556354916067147\n",
            "for alpha = 0.0001\n",
            "Accuracy : 0.9541966426858514\n",
            "for alpha = 0.001\n",
            "Accuracy : 0.9378896882494004\n",
            "for alpha = 0.01\n",
            "Accuracy : 0.9179856115107914\n",
            "for alpha = 0.1\n",
            "Accuracy : 0.3800959232613909\n",
            "for alpha = 1\n",
            "Accuracy : 0.39688249400479614\n",
            "for alpha = 10\n",
            "Accuracy : 0.1908872901678657\n",
            "for alpha = 100\n",
            "Accuracy : 0.1908872901678657\n"
          ]
        },
        {
          "output_type": "display_data",
          "data": {
            "text/plain": [
              "<Figure size 432x288 with 1 Axes>"
            ],
            "image/png": "[encoded data removed]"
          },
          "metadata": {
            "needs_background": "light"
          }
        },
        {
          "output_type": "stream",
          "name": "stdout",
          "text": [
            " The best Alpha is : 1e-05\n",
            "For values of best alpha =  1e-05 The train f1 score is: 0.9973142774926862\n",
            "For values of best alpha =  1e-05 The cross validation f1 score is: 0.9556354916067147\n",
            "For values of best alpha =  1e-05 The test f1 score is: 0.9582883854728514\n",
            "              precision    recall  f1-score   support\n",
            "\n",
            "           0       0.96      0.93      0.95       626\n",
            "           1       0.98      0.98      0.98       568\n",
            "           2       0.95      0.95      0.95       531\n",
            "           3       0.95      0.97      0.96      1056\n",
            "\n",
            "    accuracy                           0.96      2781\n",
            "   macro avg       0.96      0.96      0.96      2781\n",
            "weighted avg       0.96      0.96      0.96      2781\n",
            "\n"
          ]
        }
      ]
    },
    {
      "cell_type": "markdown",
      "source": [
        "### Hyper Parameter Tuned RF"
      ],
      "metadata": {
        "id": "b9YiWJOK8m8S"
      }
    },
    {
      "cell_type": "code",
      "source": [
        "# Random Forest\n",
        "alpha = [100,200,500,1000,2000]\n",
        "max_depth = [20,40,60]\n",
        "for i in alpha:\n",
        "  for j in max_depth:\n",
        "    print(\"for n_estimators =\", i,\"and max depth = \", j)\n",
        "    clf = RandomForestClassifier(n_estimators=i, criterion='gini', max_depth=j, random_state=42)\n",
        "    clf.fit(tfidf_train_vectors, y_train)\n",
        "    y_predicted = clf.predict(tfidf_val_vectors)\n",
        "    f1_score = metrics.f1_score(y_val, y_predicted, average='micro')\n",
        "    print(\"The value of alpha: %f , max depth :%f , F1 Score : %0.3f\" % (i,j,f1_score)) "
      ],
      "metadata": {
        "colab": {
          "base_uri": "https://localhost:8080/"
        },
        "id": "nH1yTQc8CY1w",
        "outputId": "f4d7b27a-865a-4c2d-d076-81721cbf8c09"
      },
      "execution_count": 34,
      "outputs": [
        {
          "output_type": "stream",
          "name": "stdout",
          "text": [
            "for n_estimators = 100 and max depth =  20\n",
            "The value of alpha: 100.000000 , max depth :20.000000 , F1 Score : 0.732\n",
            "for n_estimators = 100 and max depth =  40\n",
            "The value of alpha: 100.000000 , max depth :40.000000 , F1 Score : 0.854\n",
            "for n_estimators = 100 and max depth =  60\n",
            "The value of alpha: 100.000000 , max depth :60.000000 , F1 Score : 0.896\n",
            "for n_estimators = 200 and max depth =  20\n",
            "The value of alpha: 200.000000 , max depth :20.000000 , F1 Score : 0.737\n",
            "for n_estimators = 200 and max depth =  40\n",
            "The value of alpha: 200.000000 , max depth :40.000000 , F1 Score : 0.858\n",
            "for n_estimators = 200 and max depth =  60\n",
            "The value of alpha: 200.000000 , max depth :60.000000 , F1 Score : 0.899\n",
            "for n_estimators = 500 and max depth =  20\n",
            "The value of alpha: 500.000000 , max depth :20.000000 , F1 Score : 0.737\n",
            "for n_estimators = 500 and max depth =  40\n",
            "The value of alpha: 500.000000 , max depth :40.000000 , F1 Score : 0.864\n",
            "for n_estimators = 500 and max depth =  60\n",
            "The value of alpha: 500.000000 , max depth :60.000000 , F1 Score : 0.902\n",
            "for n_estimators = 1000 and max depth =  20\n",
            "The value of alpha: 1000.000000 , max depth :20.000000 , F1 Score : 0.736\n",
            "for n_estimators = 1000 and max depth =  40\n",
            "The value of alpha: 1000.000000 , max depth :40.000000 , F1 Score : 0.864\n",
            "for n_estimators = 1000 and max depth =  60\n",
            "The value of alpha: 1000.000000 , max depth :60.000000 , F1 Score : 0.902\n",
            "for n_estimators = 2000 and max depth =  20\n",
            "The value of alpha: 2000.000000 , max depth :20.000000 , F1 Score : 0.739\n",
            "for n_estimators = 2000 and max depth =  40\n",
            "The value of alpha: 2000.000000 , max depth :40.000000 , F1 Score : 0.864\n",
            "for n_estimators = 2000 and max depth =  60\n",
            "The value of alpha: 2000.000000 , max depth :60.000000 , F1 Score : 0.900\n"
          ]
        }
      ]
    },
    {
      "cell_type": "code",
      "source": [
        "clf = RandomForestClassifier(n_estimators=500, criterion='gini', max_depth=60, random_state=42)\n",
        "clf.fit(tfidf_train_vectors, y_train)"
      ],
      "metadata": {
        "colab": {
          "base_uri": "https://localhost:8080/"
        },
        "id": "YU7plFaqQOit",
        "outputId": "6f0c5177-3603-474d-f5df-5fc5e791e861"
      },
      "execution_count": 35,
      "outputs": [
        {
          "output_type": "execute_result",
          "data": {
            "text/plain": [
              "RandomForestClassifier(max_depth=60, n_estimators=500, random_state=42)"
            ]
          },
          "metadata": {},
          "execution_count": 35
        }
      ]
    },
    {
      "cell_type": "code",
      "source": [
        "predict_y = clf.predict(tfidf_train_vectors)\n",
        "print( \"The train f1 score is:\",metrics.f1_score(y_train, predict_y, average='micro'))\n",
        "predict_y = clf.predict(tfidf_val_vectors)\n",
        "print( \"The cross validation f1 score is:\",metrics.f1_score(y_val, predict_y, average='micro'))\n",
        "predict_y = clf.predict(tfidf_test_vectors)\n",
        "test_f1_score = metrics.f1_score(y_test, predict_y, average='micro')\n",
        "print(\"The test f1 score is:\",test_f1_score)\n",
        "\n",
        "classification_report = metrics.classification_report(y_test, predict_y)\n",
        "print(classification_report)\n",
        "myTable.add_row([\"Random Forest\",test_f1_score])\n"
      ],
      "metadata": {
        "colab": {
          "base_uri": "https://localhost:8080/"
        },
        "id": "QLAnPuvvbCEr",
        "outputId": "5212fab6-428c-4cc8-cf16-231d9d0aa60a"
      },
      "execution_count": 36,
      "outputs": [
        {
          "output_type": "stream",
          "name": "stdout",
          "text": [
            "The train f1 score is: 0.9535753680878615\n",
            "The cross validation f1 score is: 0.9019184652278177\n",
            "The test f1 score is: 0.8946422150305645\n",
            "              precision    recall  f1-score   support\n",
            "\n",
            "           0       0.97      0.79      0.87       626\n",
            "           1       0.96      0.94      0.95       568\n",
            "           2       0.96      0.81      0.88       531\n",
            "           3       0.81      0.97      0.88      1056\n",
            "\n",
            "    accuracy                           0.89      2781\n",
            "   macro avg       0.93      0.88      0.90      2781\n",
            "weighted avg       0.91      0.89      0.89      2781\n",
            "\n"
          ]
        }
      ]
    },
    {
      "cell_type": "markdown",
      "source": [
        "### Stacked Classifier"
      ],
      "metadata": {
        "id": "8bl_aVnr8tC5"
      }
    },
    {
      "cell_type": "code",
      "source": [
        "nb_best = MultinomialNB(alpha=0.001) \n",
        "nb_best.fit(tfidf_train_vectors, y_train)\n",
        "\n",
        "sgdc_log = SGDClassifier(class_weight='balanced', alpha=1e-06, penalty='l2', loss='log', random_state=42)\n",
        "sgdc_log.fit(tfidf_train_vectors, y_train)\n",
        "\n",
        "sgdc_svm = SGDClassifier(class_weight='balanced', alpha=1e-05, penalty='l2', loss='hinge', random_state=42)\n",
        "sgdc_svm.fit(tfidf_train_vectors, y_train)\n",
        "\n",
        "alpha = [0.0001,0.001,0.01,0.1,1,10,15] \n",
        "for i in alpha:\n",
        "    lr = LogisticRegression(C=i)\n",
        "    sclf = StackingClassifier(classifiers=[sgdc_log, nb_best, sgdc_svm], meta_classifier=lr)\n",
        "    sclf.fit(tfidf_train_vectors, y_train)\n",
        "    y_preds = sclf.predict(tfidf_val_vectors)\n",
        "    print(\"Stacking Classifer : for the value of alpha: %f F1 Score : %0.3f\" % (i, metrics.f1_score(y_val, y_preds, average='micro')))"
      ],
      "metadata": {
        "colab": {
          "base_uri": "https://localhost:8080/"
        },
        "id": "RWuGTkZDDt4O",
        "outputId": "116236ea-d4ca-4053-d7f3-83354d9854ef"
      },
      "execution_count": 37,
      "outputs": [
        {
          "output_type": "stream",
          "name": "stdout",
          "text": [
            "Stacking Classifer : for the value of alpha: 0.000100 F1 Score : 0.586\n",
            "Stacking Classifer : for the value of alpha: 0.001000 F1 Score : 0.944\n",
            "Stacking Classifer : for the value of alpha: 0.010000 F1 Score : 0.951\n",
            "Stacking Classifer : for the value of alpha: 0.100000 F1 Score : 0.955\n",
            "Stacking Classifer : for the value of alpha: 1.000000 F1 Score : 0.955\n",
            "Stacking Classifer : for the value of alpha: 10.000000 F1 Score : 0.956\n",
            "Stacking Classifer : for the value of alpha: 15.000000 F1 Score : 0.956\n"
          ]
        },
        {
          "output_type": "stream",
          "name": "stderr",
          "text": [
            "/usr/local/lib/python3.7/dist-packages/sklearn/linear_model/_logistic.py:818: ConvergenceWarning: lbfgs failed to converge (status=1):\n",
            "STOP: TOTAL NO. of ITERATIONS REACHED LIMIT.\n",
            "\n",
            "Increase the number of iterations (max_iter) or scale the data as shown in:\n",
            "    https://scikit-learn.org/stable/modules/preprocessing.html\n",
            "Please also refer to the documentation for alternative solver options:\n",
            "    https://scikit-learn.org/stable/modules/linear_model.html#logistic-regression\n",
            "  extra_warning_msg=_LOGISTIC_SOLVER_CONVERGENCE_MSG,\n"
          ]
        }
      ]
    },
    {
      "cell_type": "code",
      "source": [
        "lr = LogisticRegression(C=10)\n",
        "sclf = StackingClassifier(classifiers=[sgdc_log, nb_best, sgdc_svm], meta_classifier=lr)\n",
        "sclf.fit(tfidf_train_vectors, y_train)\n",
        "\n",
        "predict_y = sclf.predict(tfidf_train_vectors)\n",
        "print( \"The train f1 score is:\",metrics.f1_score(y_train, predict_y, average='micro'))\n",
        "predict_y = sclf.predict(tfidf_val_vectors)\n",
        "print( \"The cross validation f1 score is:\",metrics.f1_score(y_val, predict_y, average='micro'))\n",
        "predict_y = sclf.predict(tfidf_test_vectors)\n",
        "test_f1_score = metrics.f1_score(y_test, predict_y, average='micro')\n",
        "print(\"The test f1 score is:\",test_f1_score)\n",
        "\n",
        "classification_report = metrics.classification_report(y_test, predict_y)\n",
        "print(classification_report)\n",
        "myTable.add_row([\"Stacked Classifier\",test_f1_score])"
      ],
      "metadata": {
        "colab": {
          "base_uri": "https://localhost:8080/"
        },
        "id": "hlGKdAekLe0B",
        "outputId": "1d18efa7-a277-4e47-cb83-6cf542649e2a"
      },
      "execution_count": 38,
      "outputs": [
        {
          "output_type": "stream",
          "name": "stdout",
          "text": [
            "The train f1 score is: 0.9990408133902451\n",
            "The cross validation f1 score is: 0.9556354916067147\n",
            "The test f1 score is: 0.9579288025889967\n",
            "              precision    recall  f1-score   support\n",
            "\n",
            "           0       0.96      0.94      0.95       626\n",
            "           1       0.98      0.98      0.98       568\n",
            "           2       0.94      0.95      0.94       531\n",
            "           3       0.95      0.97      0.96      1056\n",
            "\n",
            "    accuracy                           0.96      2781\n",
            "   macro avg       0.96      0.96      0.96      2781\n",
            "weighted avg       0.96      0.96      0.96      2781\n",
            "\n"
          ]
        }
      ]
    },
    {
      "cell_type": "code",
      "source": [
        "print(myTable)"
      ],
      "metadata": {
        "colab": {
          "base_uri": "https://localhost:8080/"
        },
        "id": "ywBN4hVpbz1k",
        "outputId": "511af7e1-d013-4bf4-ee28-7208695e15a3"
      },
      "execution_count": 39,
      "outputs": [
        {
          "output_type": "stream",
          "name": "stdout",
          "text": [
            "+--------------------+--------------------+\n",
            "|       Model        |      F1-SCORE      |\n",
            "+--------------------+--------------------+\n",
            "|  NB Hyper Tuning   | 0.9475008989572097 |\n",
            "|   SGDC log loss    | 0.9590075512405609 |\n",
            "|  SGDC Hinge loss   | 0.9582883854728514 |\n",
            "|   Random Forest    | 0.8946422150305645 |\n",
            "| Stacked Classifier | 0.9579288025889967 |\n",
            "+--------------------+--------------------+\n"
          ]
        }
      ]
    },
    {
      "cell_type": "markdown",
      "source": [
        "### LSTM"
      ],
      "metadata": {
        "id": "19_POelP83hR"
      }
    },
    {
      "cell_type": "code",
      "source": [
        "# The maximum number of words to be used.\n",
        "MAX_NB_WORDS = 50000\n",
        "# Max number of words in each complaint.\n",
        "MAX_SEQUENCE_LENGTH = 350\n",
        "EMBEDDING_DIM = 100\n",
        "\n",
        "tokenizer = Tokenizer(num_words=MAX_NB_WORDS, filters='!\"#$%&()*+,-./:;<=>?@[\\]^_`{|}~', lower=True)\n",
        "tokenizer.fit_on_texts(df['cleaned_text'].values)\n",
        "word_index = tokenizer.word_index\n",
        "print('Found %s unique tokens.' % len(word_index))"
      ],
      "metadata": {
        "colab": {
          "base_uri": "https://localhost:8080/"
        },
        "id": "kCbPm7lveiOk",
        "outputId": "76f3d26a-ac4c-4a38-fd24-7695f2a16ede"
      },
      "execution_count": 42,
      "outputs": [
        {
          "output_type": "stream",
          "name": "stdout",
          "text": [
            "Found 106500 unique tokens.\n"
          ]
        }
      ]
    },
    {
      "cell_type": "code",
      "source": [
        "X = tokenizer.texts_to_sequences(df['cleaned_text'].values)\n",
        "X = pad_sequences(X, maxlen=MAX_SEQUENCE_LENGTH)\n",
        "\n",
        "Y = pd.get_dummies(df['class'].values)\n",
        "print('Shape of data tensor:', X.shape ,Y.shape)"
      ],
      "metadata": {
        "colab": {
          "base_uri": "https://localhost:8080/"
        },
        "id": "rkqCEjFYezYS",
        "outputId": "92a7c37b-d682-4944-99cd-ee733699794b"
      },
      "execution_count": 43,
      "outputs": [
        {
          "output_type": "stream",
          "name": "stdout",
          "text": [
            "Shape of data tensor: (27802, 350) (27802, 4)\n"
          ]
        }
      ]
    },
    {
      "cell_type": "code",
      "source": [
        "X_train, X_test, Y_train, Y_test = train_test_split(X,Y, test_size = 0.10, random_state = 42)\n",
        "print(X_train.shape,Y_train.shape)"
      ],
      "metadata": {
        "colab": {
          "base_uri": "https://localhost:8080/"
        },
        "id": "uLIyT8nRfIBY",
        "outputId": "468136c8-23ce-434e-d2e6-acf04b201d70"
      },
      "execution_count": 44,
      "outputs": [
        {
          "output_type": "stream",
          "name": "stdout",
          "text": [
            "(25021, 350) (25021, 4)\n"
          ]
        }
      ]
    },
    {
      "cell_type": "code",
      "source": [
        "model = Sequential()\n",
        "model.add(Embedding(MAX_NB_WORDS, EMBEDDING_DIM, input_length=X.shape[1]))\n",
        "model.add(SpatialDropout1D(0.2))\n",
        "model.add(LSTM(100, dropout=0.2, recurrent_dropout=0.2))\n",
        "model.add(Dense(4, activation='softmax'))\n",
        "model.compile(loss='categorical_crossentropy', optimizer='adam', metrics=['accuracy'])\n",
        "print(model.summary())"
      ],
      "metadata": {
        "colab": {
          "base_uri": "https://localhost:8080/"
        },
        "id": "KRA-HNOzfo2p",
        "outputId": "e04c2dca-c9e4-4db9-f3b4-90d5d0e51d59"
      },
      "execution_count": 45,
      "outputs": [
        {
          "output_type": "stream",
          "name": "stderr",
          "text": [
            "WARNING:tensorflow:Layer lstm will not use cuDNN kernels since it doesn't meet the criteria. It will use a generic GPU kernel as fallback when running on GPU.\n"
          ]
        },
        {
          "output_type": "stream",
          "name": "stdout",
          "text": [
            "Model: \"sequential\"\n",
            "_________________________________________________________________\n",
            " Layer (type)                Output Shape              Param #   \n",
            "=================================================================\n",
            " embedding (Embedding)       (None, 350, 100)          5000000   \n",
            "                                                                 \n",
            " spatial_dropout1d (SpatialD  (None, 350, 100)         0         \n",
            " ropout1D)                                                       \n",
            "                                                                 \n",
            " lstm (LSTM)                 (None, 100)               80400     \n",
            "                                                                 \n",
            " dense (Dense)               (None, 4)                 404       \n",
            "                                                                 \n",
            "=================================================================\n",
            "Total params: 5,080,804\n",
            "Trainable params: 5,080,804\n",
            "Non-trainable params: 0\n",
            "_________________________________________________________________\n",
            "None\n"
          ]
        }
      ]
    },
    {
      "cell_type": "code",
      "source": [
        "epochs = 25\n",
        "batch_size = 64\n",
        "patience =5\n",
        "early_stopping = EarlyStopping(\n",
        "                    monitor='val_loss',\n",
        "                    min_delta=0,\n",
        "                    patience=patience,\n",
        "                    verbose=1,\n",
        "                    mode='auto',\n",
        "                    restore_best_weights=True\n",
        "                )\n",
        "\n",
        "history = model.fit(X_train, Y_train, epochs=epochs, batch_size=batch_size,validation_split=0.1,callbacks=[early_stopping])"
      ],
      "metadata": {
        "colab": {
          "base_uri": "https://localhost:8080/"
        },
        "id": "R4Eu6gZiftbf",
        "outputId": "bebef9b8-1828-48fd-f8d7-7f2fa9cfc070"
      },
      "execution_count": 49,
      "outputs": [
        {
          "output_type": "stream",
          "name": "stdout",
          "text": [
            "Epoch 1/25\n",
            "352/352 [==============================] - 478s 1s/step - loss: 0.0964 - accuracy: 0.9759 - val_loss: 0.2180 - val_accuracy: 0.9449\n",
            "Epoch 2/25\n",
            "352/352 [==============================] - 475s 1s/step - loss: 0.0725 - accuracy: 0.9824 - val_loss: 0.2720 - val_accuracy: 0.9349\n",
            "Epoch 3/25\n",
            "352/352 [==============================] - 476s 1s/step - loss: 0.0525 - accuracy: 0.9873 - val_loss: 0.2631 - val_accuracy: 0.9377\n",
            "Epoch 4/25\n",
            "352/352 [==============================] - 480s 1s/step - loss: 0.0427 - accuracy: 0.9901 - val_loss: 0.2922 - val_accuracy: 0.9321\n",
            "Epoch 5/25\n",
            "352/352 [==============================] - 479s 1s/step - loss: 0.0388 - accuracy: 0.9912 - val_loss: 0.2773 - val_accuracy: 0.9453\n",
            "Epoch 6/25\n",
            "352/352 [==============================] - ETA: 0s - loss: 0.0339 - accuracy: 0.9914Restoring model weights from the end of the best epoch: 1.\n",
            "352/352 [==============================] - 478s 1s/step - loss: 0.0339 - accuracy: 0.9914 - val_loss: 0.3327 - val_accuracy: 0.9425\n",
            "Epoch 6: early stopping\n"
          ]
        }
      ]
    },
    {
      "cell_type": "code",
      "source": [
        "accr = model.evaluate(X_test,Y_test)\n",
        "print('Test set\\n  Loss: {:0.3f}\\n  Accuracy: {:0.3f}'.format(accr[0],accr[1]))\n",
        "myTable.add_row([\"LSTM\",accr[1]])"
      ],
      "metadata": {
        "colab": {
          "base_uri": "https://localhost:8080/"
        },
        "id": "EUHeXmnjf7XC",
        "outputId": "019a5c0f-4146-4b18-fd68-aed0ce1ffd43"
      },
      "execution_count": 53,
      "outputs": [
        {
          "output_type": "stream",
          "name": "stdout",
          "text": [
            "87/87 [==============================] - 12s 142ms/step - loss: 0.2127 - accuracy: 0.9479\n",
            "Test set\n",
            "  Loss: 0.213\n",
            "  Accuracy: 0.948\n"
          ]
        }
      ]
    },
    {
      "cell_type": "code",
      "source": [
        "print(myTable)"
      ],
      "metadata": {
        "colab": {
          "base_uri": "https://localhost:8080/"
        },
        "id": "yonlrIaGtCfR",
        "outputId": "5500abd6-cf97-40f9-b85a-c12e53f8aba2"
      },
      "execution_count": 54,
      "outputs": [
        {
          "output_type": "stream",
          "name": "stdout",
          "text": [
            "+--------------------+--------------------+\n",
            "|       Model        |      F1-SCORE      |\n",
            "+--------------------+--------------------+\n",
            "|  NB Hyper Tuning   | 0.9475008989572097 |\n",
            "|   SGDC log loss    | 0.9590075512405609 |\n",
            "|  SGDC Hinge loss   | 0.9582883854728514 |\n",
            "|   Random Forest    | 0.8946422150305645 |\n",
            "| Stacked Classifier | 0.9579288025889967 |\n",
            "|        LSTM        | 0.9478604793548584 |\n",
            "+--------------------+--------------------+\n"
          ]
        }
      ]
    },
    {
      "cell_type": "markdown",
      "source": [
        "1. From the results , we can see SGD Classifier with log loss have high F1 Score compare to others.\n",
        "2. We can also experiment with other embedding techiques such as word2vec , glove etc\n",
        "3. Also we can try modern state of art architecture such as bert, roberta etc."
      ],
      "metadata": {
        "id": "dt8YqpC09Ew_"
      }
    },
    {
      "cell_type": "code",
      "source": [],
      "metadata": {
        "id": "uakvtKxqAvtC"
      },
      "execution_count": null,
      "outputs": []
    }
  ]
}